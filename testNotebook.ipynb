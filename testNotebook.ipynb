{
 "cells": [
  {
   "cell_type": "markdown",
   "metadata": {},
   "source": [
    "# Abstraction with Functions\n",
    "\n",
    "Abstraction is a fundamental concept in programming that helps manage complexity by hiding unnecessary details and exposing only the essential features of a module or function. In Python, functions are a primary tool for achieving abstraction.\n"
   ]
  },
  {
   "cell_type": "markdown",
   "metadata": {},
   "source": [
    "## Using Functions for Abstraction\n",
    "\n",
    "Functions allow you to encapsulate code into reusable blocks. This makes your code more modular, easier to read, and maintain.\n"
   ]
  },
  {
   "cell_type": "markdown",
   "metadata": {},
   "source": [
    "### Example\n"
   ]
  },
  {
   "cell_type": "code",
   "metadata": {},
   "source": [
    "def calculate_area(radius):\n",
    "    \"\"\"Calculate the area of a circle given its radius.\"\"\"\n",
    "    import math\n",
    "    return math.pi * (radius ** 2)\n",
    "\n",
    "# Test the function\n",
    "radius = 5\n",
    "area = calculate_area(radius)\n",
    "print(f\"The area of the circle with radius {radius} is {area}\")"
   ],
   "execution_count": null,
   "outputs": []
  }
 ],
 "metadata": {
  "kernelspec": {
   "display_name": "Python 3",
   "language": "python",
   "name": "python3"
  },
  "language_info": {
   "codemirror_mode": {
    "name": "ipython",
    "version": 3
   },
   "file_extension": ".py",
   "mimetype": "text/x-python",
   "name": "python",
   "nbconvert_exporter": "python",
   "pygments_lexer": "ipython3",
   "version": "3.8.5"
  }
 },
 "nbformat": 4,
 "nbformat_minor": 4
}