
{
  "cells": [
    {
      "cell_type": "markdown",
      "metadata": {
        "id": "OH4AGonDocXa"
      },
      "source": [
        "# Defining Functions"
      ]
    },
    {
      "cell_type": "markdown",
      "metadata": {
        "id": "SbliJVhrocXa"
      },
      "source": [
        "## Introduction\n",
        "Functions are reusable blocks of code that perform a specific task. They help in organizing code, making it more readable and maintainable.\n",
        "\n",
        "## Defining a Function\n",
        "In Python, a function is defined using the `def` keyword followed by the function name and parentheses `()`.  This is the name that is used to call the function when it is used."
      ]
    },
    {
      "cell_type": "markdown",
      "metadata": {
        "id": "8E3GGkNjocXb"
      },
      "source": [
        "We can create a function that writes the Fibonacci series to an arbitrary boundary:"
      ]
    },
    {
      "cell_type": "code",
      "execution_count": 1,
      "metadata": {
        "id": "WO5Q1uUKocXb"
      },
      "outputs": [],
      "source": [
        "def fib(n):    # write Fibonacci series up to n\n",
        "    \"\"\"\n",
        "    Print a Fibonacci series up to n.\n",
        "    Example Usage: fib(500)\n",
        "    \"\"\"\n",
        "    a, b = 0, 1\n",
        "    while a < n:\n",
        "         print(a, end=' ')\n",
        "         a, b = b, a+b\n",
        "\n",
        "\n"
      ]
    },
    {
      "cell_type": "markdown",
      "metadata": {
        "id": "EnduFH8zocXb"
      },
      "source": [
        "Once defined and stored in memory, a function, and its arguments can be called by using it's name and either constants, variables, or other expressions.  You can also pass objects created from classes to functions.  We will study that later in the course.\n",
        "\n",
        "### Example Function Execution"
      ]
    },
    {
      "cell_type": "code",
      "execution_count": 2,
      "metadata": {
        "id": "tW9AViC_ocXb",
        "outputId": "cd7ec71b-c1da-4a01-d339-95105cda34a2",
        "colab": {
          "base_uri": "https://localhost:8080/"
        }
      },
      "outputs": [
        {
          "output_type": "stream",
          "name": "stdout",
          "text": [
            "0 1 1 2 3 5 8 13 21 34 55 89 144 233 377 610 987 1597 "
          ]
        }
      ],
      "source": [
        "fib(2000)"
      ]
    },
    {
      "cell_type": "markdown",
      "metadata": {
        "id": "nZ45Z8vfocXc"
      },
      "source": [
        "## Anatomy of a Function\n",
        "\n",
        "The `def` keyword is used to define a function, followed by the function name and a list of parameters in parentheses. The function body starts on the next line and must be indented.\n",
        "\n",
        "Optionally, the first statement in the function body can be a string literal known as a docstring, which serves as the function's documentation. Including docstrings is a good practice as they can be used by tools to generate documentation or for interactive code browsing.\n",
        "\n"
      ]
    },
    {
      "cell_type": "markdown",
      "metadata": {
        "id": "jaoNLsEiocXc"
      },
      "source": [
        "When a function is executed, it creates a new symbol table for its local variables. Variable assignments within the function are stored in this local symbol table.\n",
        "\n",
        "Variable references evaluate in this order:\n",
        "\n",
        "- first check the local symbol table\n",
        "- then the symbol tables of enclosing functions\n",
        "- followed by the global symbol table\n",
        "- the built-in names table\n",
        "    \n",
        "Global variables and variables from enclosing functions cannot be directly assigned within a function unless declared with the `global` or `nonlocal` statements, respectively.\n",
        "\n",
        "Arguments to a function call are added to the local symbol table of the called function, and are passed by value (where the value is an object reference). Each function call, including recursive calls, creates a new local symbol table.\n",
        "\n",
        "Defining a function associates its name with a function object in the current symbol table. The interpreter identifies this object as a user-defined function, and other names can also reference this function object.\n"
      ]
    },
    {
      "cell_type": "code",
      "execution_count": null,
      "metadata": {
        "id": "J4leZdSyocXc"
      },
      "outputs": [],
      "source": [
        "def calculate_area(radius):\n",
        "    \"\"\"Calculate the area of a circle given its radius.\"\"\"\n",
        "    import math\n",
        "    myOutput = math.pi * (radius ** 2)\n",
        "    return myOutput"
      ]
    },
    {
      "cell_type": "code",
      "execution_count": null,
      "metadata": {
        "id": "bu7wJ_EbocXc",
        "outputId": "37d82ba8-7e1b-428b-d003-4863d5467462"
      },
      "outputs": [
        {
          "name": "stdout",
          "output_type": "stream",
          "text": [
            "93.53981633974483\n"
          ]
        }
      ],
      "source": [
        "calculate_area(5)\n",
        "myArea = calculate_area(5)\n",
        "\n",
        "print(myArea + 15)"
      ]
    },
    {
      "cell_type": "markdown",
      "metadata": {
        "id": "8SwP0zQQocXd"
      },
      "source": [
        "## Parameters and Arguments\n",
        "- **Parameters** are variables listed inside the parentheses in the function definition.\n",
        "- **Arguments** are the values passed to the function when it is called.\n"
      ]
    },
    {
      "cell_type": "markdown",
      "metadata": {
        "id": "JejjTdOLocXd"
      },
      "source": [
        "## Return Statement\n",
        "The `return` statement is used to exit a function and return a value."
      ]
    },
    {
      "cell_type": "code",
      "execution_count": null,
      "metadata": {
        "id": "4oz-6RLvocXd",
        "outputId": "520e0959-6ea6-4c91-b1e2-67d39a19af15"
      },
      "outputs": [
        {
          "name": "stdout",
          "output_type": "stream",
          "text": [
            "25\n"
          ]
        }
      ],
      "source": [
        "def square(x):\n",
        "    \"\"\"Returns the square of a number.\"\"\"\n",
        "    return x * x\n",
        "\n",
        "print(square(5))"
      ]
    },
    {
      "cell_type": "markdown",
      "metadata": {
        "id": "KM7SHgtqocXd"
      },
      "source": [
        "## Docstrings\n",
        "Docstrings are string literals that appear right after the function definition and are used to describe the function's purpose.\n"
      ]
    },
    {
      "cell_type": "code",
      "execution_count": null,
      "metadata": {
        "id": "kcGdbBmrocXd",
        "outputId": "db0d3070-5101-4bac-acd8-92ec75e32c0c"
      },
      "outputs": [
        {
          "name": "stdout",
          "output_type": "stream",
          "text": [
            "Hello, Trev!\n",
            "None\n"
          ]
        }
      ],
      "source": [
        "def greet(name):\n",
        "    \"\"\"This function greets the person whose name is passed as an argument.\"\"\"\n",
        "    print(f\"Hello, {name}!\")\n",
        "\n",
        "print(greet(\"Sally\"))"
      ]
    },
    {
      "cell_type": "markdown",
      "metadata": {
        "id": "lbw4Wbo8ocXd"
      },
      "source": [
        "## Conclusion\n",
        "\n",
        "Functions are a fundamental aspect of Python programming, enabling code reuse and better organization. Understanding how to define and use functions is essential for writing efficient and maintainable code."
      ]
    },
    {
      "cell_type": "code",
      "execution_count": null,
      "metadata": {
        "id": "MTmBck4oocXd"
      },
      "outputs": [],
      "source": []
    }
  ],
  "metadata": {
    "kernelspec": {
      "display_name": ".venv",
      "language": "python",
      "name": "python3"
    },
    "language_info": {
      "codemirror_mode": {
        "name": "ipython",
        "version": 3
      },
      "file_extension": ".py",
      "mimetype": "text/x-python",
      "name": "python",
      "nbconvert_exporter": "python",
      "pygments_lexer": "ipython3",
      "version": "3.9.13"
    },
    "colab": {
      "provenance": []
    }
  },
  "nbformat": 4,
  "nbformat_minor": 0
}
