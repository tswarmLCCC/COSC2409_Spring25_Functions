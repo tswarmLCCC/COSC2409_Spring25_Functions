{
 "cells": [
  {
   "cell_type": "markdown",
   "id": "f5483d6b",
   "metadata": {},
   "source": [
    "# Functions and Default Arguments\n",
    "\n",
    "In this notebook, we will explore how to use functions with default arguments in Python. Default arguments allow us to define functions that can be called with fewer arguments than they are defined to accept.\n",
    "\n",
    "## Defining a Function with Default Arguments\n",
    "\n",
    "Let's start by defining a simple function with default arguments."
   ]
  },
  {
   "cell_type": "code",
   "execution_count": 8,
   "id": "d2e99c6c",
   "metadata": {},
   "outputs": [
    {
     "name": "stdout",
     "output_type": "stream",
     "text": [
      "Hello, Alice!\n",
      "Hi, Bob!\n"
     ]
    }
   ],
   "source": [
    "def greet(name, greeting=\"Hello\"):\n",
    "    return f\"{greeting}, {name}!\"\n",
    "\n",
    "# Example usage\n",
    "print(greet(\"Alice\"))\n",
    "print(greet(\"Bob\", \"Hi\"))"
   ]
  },
  {
   "cell_type": "markdown",
   "id": "75e81206",
   "metadata": {},
   "source": [
    "### Explanation\n",
    "\n",
    "1. **Function Definition**: We define a function `greet` that takes two arguments: `name` and `greeting`. The `greeting` argument has a default value of `\"Hello\"`.\n",
    "\n",
    "2. **Calling the Function**: \n",
    "    - When we call `greet(\"Alice\")`, it uses the default value for `greeting`, so the output is `\"Hello, Alice!\"`.\n",
    "    - When we call `greet(\"Bob\", \"Hi\")`, it uses the provided value for `greeting`, so the output is `\"Hi, Bob!\"`.\n",
    "\n",
    "## Using Default Arguments in More Complex Functions\n",
    "\n",
    "Default arguments can be very useful in more complex functions. Let's see an example where we calculate the area of a rectangle, with a default value for the width."
   ]
  },
  {
   "cell_type": "markdown",
   "id": "40a0e515",
   "metadata": {},
   "source": [
    "The most useful form is to specify a default value for one or more arguments. This creates a function that can be called with fewer arguments than it is defined to allow. For example:"
   ]
  },
  {
   "cell_type": "code",
   "execution_count": 9,
   "id": "b6ada2f2",
   "metadata": {},
   "outputs": [],
   "source": [
    "\n",
    "def ask_ok(prompt, retries=4, reminder='Please try again!'):\n",
    "    while True:\n",
    "        ok = input(prompt)\n",
    "        if ok in ('y', 'ye', 'yes'):\n",
    "            return True\n",
    "        if ok in ('n', 'no', 'nop', 'nope'):\n",
    "            return False\n",
    "        retries = retries - 1\n",
    "        if retries < 0:\n",
    "            raise ValueError('invalid user response')\n",
    "        print(reminder)"
   ]
  },
  {
   "cell_type": "markdown",
   "id": "a6b32c5c",
   "metadata": {},
   "source": [
    "This function can be called in several ways:\n",
    "\n",
    "giving only the mandatory argument: ask_ok('Do you really want to quit?')\n",
    "\n",
    "giving one of the optional arguments: ask_ok('OK to overwrite the file?', 2)\n",
    "\n",
    "or even giving all arguments: ask_ok('OK to overwrite the file?', 2, 'Come on, only yes or no!')\n",
    "\n",
    "This example also introduces the in keyword. This tests whether or not a sequence contains a certain value."
   ]
  },
  {
   "cell_type": "code",
   "execution_count": 10,
   "id": "41d2973c",
   "metadata": {},
   "outputs": [
    {
     "name": "stdout",
     "output_type": "stream",
     "text": [
      "50\n",
      "100\n"
     ]
    }
   ],
   "source": [
    "def calculate_area(length, width=10):\n",
    "    return length * width\n",
    "\n",
    "# Example usage\n",
    "print(calculate_area(5))\n",
    "print(calculate_area(5, 20))"
   ]
  },
  {
   "cell_type": "markdown",
   "id": "c8e48477",
   "metadata": {},
   "source": [
    "### Explanation\n",
    "\n",
    "1. **Function Definition**: We define a function `calculate_area` that takes two arguments: `length` and `width`. The `width` argument has a default value of `10`.\n",
    "\n",
    "2. **Calling the Function**:\n",
    "    - When we call `calculate_area(5)`, it uses the default value for `width`, so the output is `5 * 10 = 50`.\n",
    "    - When we call `calculate_area(5, 20)`, it uses the provided value for `width`, so the output is `5 * 20 = 100`.\n",
    "\n",
    "## Important Considerations\n",
    "\n",
    "When using default arguments, it's important to remember that default values are evaluated only once. This can lead to unexpected behavior when using mutable default arguments like lists or dictionaries.\n",
    "\n",
    "### Example with Mutable Default Argument"
   ]
  },
  {
   "cell_type": "code",
   "execution_count": 11,
   "id": "d13842c0",
   "metadata": {},
   "outputs": [
    {
     "name": "stdout",
     "output_type": "stream",
     "text": [
      "[1]\n",
      "[1, 2]\n",
      "[1, 2, 3]\n"
     ]
    }
   ],
   "source": [
    "def append_to_list(value, my_list=[]):\n",
    "    my_list.append(value)\n",
    "    return my_list\n",
    "\n",
    "# Example usage\n",
    "print(append_to_list(1))\n",
    "print(append_to_list(2))\n",
    "print(append_to_list(3))"
   ]
  },
  {
   "cell_type": "markdown",
   "id": "e7c0b033",
   "metadata": {},
   "source": [
    "### Explanation\n",
    "\n",
    "1. **Function Definition**: We define a function `append_to_list` that takes two arguments: `value` and `my_list`. The `my_list` argument has a default value of an empty list `[]`.\n",
    "\n",
    "2. **Calling the Function**:\n",
    "    - When we call `append_to_list(1)`, it appends `1` to the default list, so the output is `[1]`.\n",
    "    - When we call `append_to_list(2)`, it appends `2` to the same list, so the output is `[1, 2]`.\n",
    "    - When we call `append_to_list(3)`, it appends `3` to the same list, so the output is `[1, 2, 3]`.\n",
    "\n",
    "### Solution\n",
    "\n",
    "To avoid this issue, we can use `None` as the default value and initialize the list inside the function."
   ]
  },
  {
   "cell_type": "code",
   "execution_count": 12,
   "id": "00bb6101",
   "metadata": {},
   "outputs": [
    {
     "name": "stdout",
     "output_type": "stream",
     "text": [
      "[1]\n",
      "[2]\n",
      "[3]\n"
     ]
    }
   ],
   "source": [
    "def append_to_list(value, my_list=None):\n",
    "    if my_list is None:\n",
    "        my_list = []\n",
    "    my_list.append(value)\n",
    "    return my_list\n",
    "\n",
    "# Example usage\n",
    "print(append_to_list(1))\n",
    "print(append_to_list(2))\n",
    "print(append_to_list(3))"
   ]
  },
  {
   "cell_type": "markdown",
   "id": "42ecb656",
   "metadata": {},
   "source": [
    "### Explanation\n",
    "\n",
    "1. **Function Definition**: We define a function `append_to_list` that takes two arguments: `value` and `my_list`. The `my_list` argument has a default value of `None`.\n",
    "\n",
    "2. **Initializing the List**: Inside the function, we check if `my_list` is `None`. If it is, we initialize it to an empty list `[]`.\n",
    "\n",
    "3. **Calling the Function**:\n",
    "    - When we call `append_to_list(1)`, it appends `1` to a new list, so the output is `[1]`.\n",
    "    - When we call `append_to_list(2)`, it appends `2` to a new list, so the output is `[2]`.\n",
    "    - When we call `append_to_list(3)`, it appends `3` to a new list, so the output is `[3]`.\n",
    "\n",
    "By using `None` as the default value, we ensure that a new list is created each time the function is called, avoiding the issue of shared mutable default arguments."
   ]
  },
  {
   "cell_type": "markdown",
   "id": "e432bff8",
   "metadata": {},
   "source": [
    "The default values are evaluated at the point of function definition in the defining scope, so that"
   ]
  },
  {
   "cell_type": "code",
   "execution_count": 13,
   "id": "c9a7c040",
   "metadata": {},
   "outputs": [
    {
     "name": "stdout",
     "output_type": "stream",
     "text": [
      "5\n"
     ]
    }
   ],
   "source": [
    "i = 5\n",
    "\n",
    "def f(arg=i):\n",
    "    print(arg)\n",
    "\n",
    "i = 6\n",
    "f()"
   ]
  },
  {
   "cell_type": "markdown",
   "id": "ba02d286",
   "metadata": {},
   "source": [
    "will print 5."
   ]
  },
  {
   "cell_type": "markdown",
   "id": "e7092f4c",
   "metadata": {},
   "source": [
    "## Keyword Arguments\n",
    "\n",
    "Functions can also be called using keyword arguments of the form kwarg=value. "
   ]
  },
  {
   "cell_type": "code",
   "execution_count": 18,
   "id": "293209fe",
   "metadata": {},
   "outputs": [],
   "source": [
    "def parrot(voltage, state='a stiff', action='voom', type='Norwegian Blue'):\n",
    "    print(\"-- This parrot wouldn't\", action, end=' ')\n",
    "    print(\"if you put\", voltage, \"volts through it.\")\n",
    "    print(\"-- Lovely plumage, the\", type)\n",
    "    print(\"-- It's\", state, \"!\")"
   ]
  },
  {
   "cell_type": "code",
   "execution_count": 19,
   "id": "300afb46",
   "metadata": {},
   "outputs": [
    {
     "name": "stdout",
     "output_type": "stream",
     "text": [
      "-- This parrot wouldn't voom if you put 1000 volts through it.\n",
      "-- Lovely plumage, the Norwegian Blue\n",
      "-- It's a stiff !\n",
      "-- This parrot wouldn't voom if you put 1000 volts through it.\n",
      "-- Lovely plumage, the Norwegian Blue\n",
      "-- It's a stiff !\n",
      "-- This parrot wouldn't VOOOOOM if you put 1000000 volts through it.\n",
      "-- Lovely plumage, the Norwegian Blue\n",
      "-- It's a stiff !\n",
      "-- This parrot wouldn't VOOOOOM if you put 1000000 volts through it.\n",
      "-- Lovely plumage, the Norwegian Blue\n",
      "-- It's a stiff !\n",
      "-- This parrot wouldn't jump if you put a million volts through it.\n",
      "-- Lovely plumage, the Norwegian Blue\n",
      "-- It's bereft of life !\n",
      "-- This parrot wouldn't voom if you put a thousand volts through it.\n",
      "-- Lovely plumage, the Norwegian Blue\n",
      "-- It's pushing up the daisies !\n"
     ]
    }
   ],
   "source": [
    "#For instance, the following function accepts one required argument (voltage) and three optional arguments (state, action, and type). This function can be called in any of the following ways:\n",
    "\n",
    "parrot(1000)                                          # 1 positional argument\n",
    "parrot(voltage=1000)                                  # 1 keyword argument\n",
    "parrot(voltage=1000000, action='VOOOOOM')             # 2 keyword arguments\n",
    "parrot(action='VOOOOOM', voltage=1000000)             # 2 keyword arguments\n",
    "parrot('a million', 'bereft of life', 'jump')         # 3 positional arguments\n",
    "parrot('a thousand', state='pushing up the daisies')  # 1 positional, 1 keyword\n",
    "\n"
   ]
  },
  {
   "cell_type": "code",
   "execution_count": 20,
   "id": "a1608d42",
   "metadata": {},
   "outputs": [
    {
     "ename": "SyntaxError",
     "evalue": "positional argument follows keyword argument (3273912471.py, line 4)",
     "output_type": "error",
     "traceback": [
      "\u001b[1;36m  Cell \u001b[1;32mIn[20], line 4\u001b[1;36m\u001b[0m\n\u001b[1;33m    parrot(voltage=5.0, 'dead')  # non-keyword argument after a keyword argument\u001b[0m\n\u001b[1;37m                              ^\u001b[0m\n\u001b[1;31mSyntaxError\u001b[0m\u001b[1;31m:\u001b[0m positional argument follows keyword argument\n"
     ]
    }
   ],
   "source": [
    "#but all the following calls would be invalid:\n",
    "\n",
    "parrot()                     # required argument missing\n",
    "parrot(voltage=5.0, 'dead')  # non-keyword argument after a keyword argument\n",
    "parrot(110, voltage=220)     # duplicate value for the same argument\n",
    "parrot(actor='John Cleese')  # unknown keyword argument"
   ]
  },
  {
   "cell_type": "markdown",
   "id": "fafc2c80",
   "metadata": {},
   "source": [
    "In a function call, keyword arguments must follow positional arguments. All the keyword arguments passed must match one of the arguments accepted by the function (e.g. actor is not a valid argument for the parrot function), and their order is not important. This also includes non-optional arguments (e.g. parrot(voltage=1000) is valid too). No argument may receive a value more than once. Here’s an example that fails due to this restriction:\n"
   ]
  },
  {
   "cell_type": "code",
   "execution_count": null,
   "id": "463b7da8",
   "metadata": {},
   "outputs": [
    {
     "ename": "TypeError",
     "evalue": "function() got multiple values for argument 'a'",
     "output_type": "error",
     "traceback": [
      "\u001b[1;31m---------------------------------------------------------------------------\u001b[0m",
      "\u001b[1;31mTypeError\u001b[0m                                 Traceback (most recent call last)",
      "Cell \u001b[1;32mIn[2], line 4\u001b[0m\n\u001b[0;32m      1\u001b[0m \u001b[38;5;28;01mdef\u001b[39;00m \u001b[38;5;21mfunction\u001b[39m(a):\n\u001b[0;32m      2\u001b[0m     \u001b[38;5;28;01mpass\u001b[39;00m\n\u001b[1;32m----> 4\u001b[0m \u001b[43mfunction\u001b[49m\u001b[43m(\u001b[49m\u001b[38;5;241;43m0\u001b[39;49m\u001b[43m,\u001b[49m\u001b[43m \u001b[49m\u001b[43ma\u001b[49m\u001b[38;5;241;43m=\u001b[39;49m\u001b[38;5;241;43m0\u001b[39;49m\u001b[43m)\u001b[49m\n",
      "\u001b[1;31mTypeError\u001b[0m: function() got multiple values for argument 'a'"
     ]
    }
   ],
   "source": [
    "def function(a):\n",
    "    pass\n",
    "     \n",
    "function(0, a=0)"
   ]
  },
  {
   "cell_type": "markdown",
   "id": "586f9a7a",
   "metadata": {},
   "source": [
    "#Traceback (most recent call last):\n",
    "\n",
    "  File \"<stdin>\", line 1, in <module>\n",
    "\n",
    "TypeError: function() got multiple values for argument 'a'"
   ]
  },
  {
   "cell_type": "markdown",
   "id": "f524b27e",
   "metadata": {},
   "source": [
    "##  Keyword Argument Usage\n",
    "\n",
    "When a final formal parameter of the form **name is present, it receives a dictionary (see Mapping Types — dict) containing all keyword arguments except for those corresponding to a formal parameter. This may be combined with a formal parameter of the form *name (described in the next subsection) which receives a tuple containing the positional arguments beyond the formal parameter list. (*name must occur before **name.) For example, if we define a function like this:"
   ]
  },
  {
   "cell_type": "code",
   "execution_count": null,
   "id": "41e22de5",
   "metadata": {},
   "outputs": [],
   "source": [
    "def cheeseshop(kind, *arguments, **keywords):\n",
    "    print(\"-- Do you have any\", kind, \"?\")\n",
    "    print(\"-- I'm sorry, we're all out of\", kind)\n",
    "    for arg in arguments:\n",
    "        print(arg)\n",
    "    print(\"-\" * 40)\n",
    "    for kw in keywords:\n",
    "        print(kw, \":\", keywords[kw])"
   ]
  },
  {
   "cell_type": "code",
   "execution_count": null,
   "id": "dfa4b0f9",
   "metadata": {},
   "outputs": [
    {
     "name": "stdout",
     "output_type": "stream",
     "text": [
      "-- Do you have any Limburger ?\n",
      "-- I'm sorry, we're all out of Limburger\n",
      "It's very runny, sir.\n",
      "It's really very, VERY runny, sir.\n",
      "----------------------------------------\n",
      "shopkeeper : Michael Palin\n",
      "client : John Cleese\n",
      "sketch : Cheese Shop Sketch\n"
     ]
    }
   ],
   "source": [
    "#It could be called like this:\n",
    "\n",
    "cheeseshop(\"Limburger\", \"It's very runny, sir.\",\n",
    "           \"It's really very, VERY runny, sir.\",\n",
    "           shopkeeper=\"Michael Palin\",\n",
    "           client=\"John Cleese\",\n",
    "           sketch=\"Cheese Shop Sketch\")"
   ]
  },
  {
   "cell_type": "markdown",
   "id": "aec3bbee",
   "metadata": {},
   "source": [
    "See more on this and functions at https://docs.python.org/3.9/tutorial/controlflow.html#special-parameters"
   ]
  },
  {
   "cell_type": "markdown",
   "id": "dfffb019",
   "metadata": {},
   "source": [
    "## Lambda Expressions\n",
    "\n",
    "Small anonymous functions can be created with the lambda keyword. This function returns the sum of its two arguments: lambda a, b: a+b. Lambda functions can be used wherever function objects are required. They are syntactically restricted to a single expression. Semantically, they are just syntactic sugar for a normal function definition. Like nested function definitions, lambda functions can reference variables from the containing scope:"
   ]
  },
  {
   "cell_type": "code",
   "execution_count": null,
   "id": "a5122be7",
   "metadata": {},
   "outputs": [
    {
     "data": {
      "text/plain": [
       "43"
      ]
     },
     "execution_count": 7,
     "metadata": {},
     "output_type": "execute_result"
    }
   ],
   "source": [
    "def make_incrementor(n):\n",
    "     return lambda x: x + n\n",
    "\n",
    "f = make_incrementor(42)\n",
    "f(0)\n",
    "\n",
    "f(1)"
   ]
  },
  {
   "cell_type": "markdown",
   "id": "91eff9f5",
   "metadata": {},
   "source": []
  },
  {
   "cell_type": "markdown",
   "id": "b846f900",
   "metadata": {},
   "source": [
    "The above example uses a lambda expression to return a function. Another use is to pass a small function as an argument"
   ]
  },
  {
   "cell_type": "code",
   "execution_count": null,
   "id": "5c08d545",
   "metadata": {},
   "outputs": [],
   "source": [
    "pairs = [(1, 'one'), (2, 'two'), (3, 'three'), (4, 'four')]\n",
    "pairs.sort(key=lambda pair: pair[1])\n",
    "pairs"
   ]
  },
  {
   "cell_type": "markdown",
   "id": "9b46e59b",
   "metadata": {},
   "source": []
  }
 ],
 "metadata": {
  "kernelspec": {
   "display_name": ".venv",
   "language": "python",
   "name": "python3"
  },
  "language_info": {
   "codemirror_mode": {
    "name": "ipython",
    "version": 3
   },
   "file_extension": ".py",
   "mimetype": "text/x-python",
   "name": "python",
   "nbconvert_exporter": "python",
   "pygments_lexer": "ipython3",
   "version": "3.9.13"
  }
 },
 "nbformat": 4,
 "nbformat_minor": 5
}
