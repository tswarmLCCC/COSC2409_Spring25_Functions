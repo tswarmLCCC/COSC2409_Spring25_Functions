{
 "cells": [
  {
   "cell_type": "markdown",
   "metadata": {},
   "source": [
    "## Improving Code with Functions and Loops\n",
    "\n",
    "In programming, it's common to encounter repetitive tasks. Instead of writing the same code multiple times, we can use functions and loops to make our code more efficient and easier to maintain.\n",
    "\n",
    "### Original Code\n",
    "\n",
    "Consider the following code that calculates and prints the squares of numbers from 1 to 5:"
   ]
  },
  {
   "cell_type": "code",
   "execution_count": 2,
   "metadata": {},
   "outputs": [
    {
     "name": "stdout",
     "output_type": "stream",
     "text": [
      "The square of 1 is 1\n",
      "The square of 2 is 4\n",
      "The square of 3 is 9\n",
      "The square of 4 is 16\n",
      "The square of 5 is 25\n"
     ]
    }
   ],
   "source": [
    "# Calculate the square of numbers from 1 to 5\n",
    "square_1 = 1 * 1\n",
    "square_2 = 2 * 2\n",
    "square_3 = 3 * 3\n",
    "square_4 = 4 * 4\n",
    "square_5 = 5 * 5\n",
    "\n",
    "# Print the results\n",
    "print(\"The square of 1 is\", square_1)\n",
    "print(\"The square of 2 is\", square_2)\n",
    "print(\"The square of 3 is\", square_3)\n",
    "print(\"The square of 4 is\", square_4)\n",
    "print(\"The square of 5 is\", square_5)\n"
   ]
  },
  {
   "cell_type": "code",
   "execution_count": null,
   "metadata": {},
   "outputs": [
    {
     "name": "stdout",
     "output_type": "stream",
     "text": [
      "The square of 1 is 0.5\n",
      "The square of 2 is 2.0\n",
      "The square of 3 is 4.5\n",
      "The square of 4 is 8.0\n",
      "The square of 5 is 12.5\n"
     ]
    }
   ],
   "source": [
    "def calculate_a_useful_value(number):\n",
    "    return number * number \n",
    "\n",
    "\n",
    "# Print the results\n",
    "print(\"The square of 1 is\", calculate_a_useful_value(1))\n",
    "print(\"The square of 2 is\", calculate_a_useful_value(2))\n",
    "print(\"The square of 3 is\", calculate_a_useful_value(3))\n",
    "print(\"The square of 4 is\", calculate_a_useful_value(4))\n",
    "print(\"The square of 5 is\", calculate_a_useful_value(5))"
   ]
  },
  {
   "cell_type": "code",
   "execution_count": null,
   "metadata": {},
   "outputs": [
    {
     "name": "stdout",
     "output_type": "stream",
     "text": [
      "The useful value we'd use everywhere in our huge app for the input of 1 is 1\n",
      "The useful value we'd use everywhere in our huge app for the input of 2 is 4\n",
      "The useful value we'd use everywhere in our huge app for the input of 3 is 9\n",
      "The useful value we'd use everywhere in our huge app for the input of 4 is 16\n",
      "The useful value we'd use everywhere in our huge app for the input of 5 is 25\n"
     ]
    }
   ],
   "source": [
    "def calculate_a_useful_value(number):\n",
    "    return number * number\n",
    "\n",
    "print(range(1, 6))\n",
    "\n",
    "for i in range(1, 6):\n",
    "    square = calculate_a_useful_value(i)\n",
    "    print(f\"The useful value we'd use everywhere in our huge app for the input of {i} is {square}\")"
   ]
  },
  {
   "cell_type": "markdown",
   "metadata": {},
   "source": [
    "## Further Improving Code with Lists\n",
    "\n",
    "We can make our code even more concise and flexible by using a list to store the sequence of numbers. This allows us to easily change the sequence without modifying the loop.\n",
    "\n",
    "### Improved Code with List\n",
    "\n",
    "Here is the improved code:"
   ]
  },
  {
   "cell_type": "code",
   "execution_count": 10,
   "metadata": {
    "vscode": {
     "languageId": "markdown"
    }
   },
   "outputs": [
    {
     "name": "stdout",
     "output_type": "stream",
     "text": [
      "The square of 1 is 1\n",
      "The square of 2 is 4\n",
      "The square of 3 is 9\n",
      "The square of 4 is 16\n",
      "The square of 5 is 25\n"
     ]
    }
   ],
   "source": [
    "def calculate_square(number):\n",
    "    return number * number\n",
    "\n",
    "numbers = [1, 2, 3, 4, 5]\n",
    "\n",
    "for number in numbers:\n",
    "    square = calculate_square(number)\n",
    "    print(f\"The square of {number} is {square}\")"
   ]
  },
  {
   "cell_type": "markdown",
   "metadata": {},
   "source": [
    "\n",
    "\n",
    "### Explanation\n",
    "\n",
    "1. **Function Definition**: We still have the `calculate_square` function that takes a number as an argument and returns its square.\n",
    "\n",
    "2. **List of Numbers**: We create a list `numbers` that contains the sequence of numbers we want to calculate the squares for. This makes it easy to modify the sequence if needed.\n",
    "\n",
    "3. **Loop**: We use a `for` loop to iterate over the list `numbers`. For each number in the list, we call the `calculate_square` function and print the result.\n",
    "\n",
    "By using a list, we make our code more flexible and easier to modify. If we want to calculate the squares of a different set of numbers, we only need to change the contents of the list.\n",
    "```"
   ]
  }
 ],
 "metadata": {
  "kernelspec": {
   "display_name": ".venv",
   "language": "python",
   "name": "python3"
  },
  "language_info": {
   "codemirror_mode": {
    "name": "ipython",
    "version": 3
   },
   "file_extension": ".py",
   "mimetype": "text/x-python",
   "name": "python",
   "nbconvert_exporter": "python",
   "pygments_lexer": "ipython3",
   "version": "3.9.13"
  }
 },
 "nbformat": 4,
 "nbformat_minor": 4
}
