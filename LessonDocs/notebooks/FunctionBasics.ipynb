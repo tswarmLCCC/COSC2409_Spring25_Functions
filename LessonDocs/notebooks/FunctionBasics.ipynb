{
 "cells": [
  {
   "cell_type": "markdown",
   "metadata": {},
   "source": []
  },
  {
   "cell_type": "markdown",
   "metadata": {},
   "source": [
    "# Abstraction with Functions\n",
    "\n",
    "Abstraction is a fundamental concept in programming that helps manage complexity by hiding unnecessary details and exposing only the essential features of a module or function. In Python, functions are a primary tool for achieving abstraction.\n"
   ]
  },
  {
   "cell_type": "markdown",
   "metadata": {},
   "source": [
    "\n",
    "## Using Functions for Abstraction\n",
    "\n",
    "Functions allow you to encapsulate code into reusable blocks. This makes your code more modular, easier to read, and maintain."
   ]
  },
  {
   "cell_type": "code",
   "execution_count": null,
   "metadata": {},
   "outputs": [],
   "source": [
    "def calculate_area(radius):\n",
    "    \"\"\"Calculate the area of a circle given its radius.\"\"\"\n",
    "    import math\n",
    "    return math.pi * (radius ** 2)"
   ]
  },
  {
   "cell_type": "markdown",
   "metadata": {},
   "source": [
    "## Using Functions for Abstraction\n",
    "\n",
    "Functions allow you to encapsulate code into reusable blocks. This makes your code more modular, easier to read, and maintain.\n"
   ]
  },
  {
   "cell_type": "markdown",
   "metadata": {},
   "source": [
    "### Example\n"
   ]
  },
  {
   "cell_type": "code",
   "execution_count": 1,
   "metadata": {},
   "outputs": [
    {
     "name": "stdout",
     "output_type": "stream",
     "text": [
      "hi\n"
     ]
    }
   ],
   "source": [
    "print(\"hi\")"
   ]
  },
  {
   "cell_type": "markdown",
   "metadata": {},
   "source": [
    "## Abstraction in Python\n",
    "\n",
    "Abstraction is a fundamental concept in programming that helps manage complexity by hiding unnecessary details and exposing only the essential features of a module or function. In Python, functions are a primary tool for achieving abstraction.\n",
    "\n",
    "## Main File\n",
    "\n",
    "The main file in a Python project typically contains the primary logic of the application. It may import various modules and use functions defined in those modules to perform tasks.\n",
    "\n",
    "### Example Main File\n",
    "\n",
    "Let's consider a simple example where we have a function that performs a calculation and another function that prints the result.\n",
    "```python"
   ]
  },
  {
   "cell_type": "code",
   "execution_count": 4,
   "metadata": {},
   "outputs": [
    {
     "name": "stdout",
     "output_type": "stream",
     "text": [
      "3\n"
     ]
    }
   ],
   "source": [
    "\n",
    "def calculate_sum(a, b):\n",
    "    return a + b\n",
    "\n",
    "print(calculate_sum(1, 2))"
   ]
  },
  {
   "cell_type": "code",
   "execution_count": 3,
   "metadata": {
    "vscode": {
     "languageId": "markdown"
    }
   },
   "outputs": [
    {
     "name": "stdout",
     "output_type": "stream",
     "text": [
      "The sum of 5 and 7 is 12\n"
     ]
    }
   ],
   "source": [
    "\n",
    "def calculate_sum(a, b):\n",
    "    return a + b\n",
    "\n",
    "def print_sum(a, b):\n",
    "    result = calculate_sum(a, b)\n",
    "    print(f\"The sum of {a} and {b} is {result}\")\n",
    "\n",
    "if __name__ == \"__main__\":\n",
    "    x = 5\n",
    "    y = 7\n",
    "    print_sum(x, y)\n"
   ]
  }
 ],
 "metadata": {
  "kernelspec": {
   "display_name": ".venv",
   "language": "python",
   "name": "python3"
  },
  "language_info": {
   "codemirror_mode": {
    "name": "ipython",
    "version": 3
   },
   "file_extension": ".py",
   "mimetype": "text/x-python",
   "name": "python",
   "nbconvert_exporter": "python",
   "pygments_lexer": "ipython3",
   "version": "3.9.13"
  }
 },
 "nbformat": 4,
 "nbformat_minor": 4
}
